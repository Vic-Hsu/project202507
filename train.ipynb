{
 "cells": [
  {
   "cell_type": "code",
   "execution_count": 2,
   "id": "e24bf896",
   "metadata": {},
   "outputs": [],
   "source": [
    "import numpy as np\n",
    "import pandas as pd\n",
    "from sklearn import datasets\n",
    "from sklearn.model_selection import train_test_split"
   ]
  },
  {
   "cell_type": "code",
   "execution_count": null,
   "id": "c6221f47",
   "metadata": {},
   "outputs": [
    {
     "name": "stdout",
     "output_type": "stream",
     "text": [
      "['setosa' 'versicolor' 'virginica']\n"
     ]
    }
   ],
   "source": [
    "iris = datasets.load_iris()\n",
    "X = pd.DataFrame(iris.data)\n",
    "y = iris.target\n",
    "y_names = iris.target_names\n",
    "print(y_names)\n"
   ]
  },
  {
   "cell_type": "code",
   "execution_count": 4,
   "id": "ba23eafd",
   "metadata": {},
   "outputs": [],
   "source": [
    "X_train, X_test, y_train, y_test = train_test_split(X, y, \n",
    "                                                    test_size=0.2, \n",
    "                                                    stratify=y,\n",
    "                                                    random_state=42)"
   ]
  },
  {
   "cell_type": "code",
   "execution_count": 5,
   "id": "df953337",
   "metadata": {},
   "outputs": [
    {
     "name": "stdout",
     "output_type": "stream",
     "text": [
      "0.9666666666666667\n"
     ]
    }
   ],
   "source": [
    "from sklearn.svm import SVC\n",
    "from sklearn.metrics import accuracy_score\n",
    "\n",
    "clf01 = SVC()\n",
    "clf01.fit(X_train, y_train)\n",
    "acc01 = accuracy_score(y_test, clf01.predict(X_test))\n",
    "print(acc01)"
   ]
  },
  {
   "cell_type": "code",
   "execution_count": 6,
   "id": "585199a0",
   "metadata": {},
   "outputs": [
    {
     "data": {
      "text/plain": [
       "['model/svm.joblib']"
      ]
     },
     "execution_count": 6,
     "metadata": {},
     "output_type": "execute_result"
    }
   ],
   "source": [
    "import joblib\n",
    "joblib.dump(clf01, 'model/svm.joblib')"
   ]
  },
  {
   "cell_type": "code",
   "execution_count": 7,
   "id": "2464e14e",
   "metadata": {},
   "outputs": [
    {
     "name": "stdout",
     "output_type": "stream",
     "text": [
      "0.9333333333333333\n"
     ]
    }
   ],
   "source": [
    "from sklearn.ensemble import RandomForestClassifier\n",
    "\n",
    "clf02 = RandomForestClassifier(n_estimators=500, random_state=42)\n",
    "clf02.fit(X_train, y_train)\n",
    "acc02 = accuracy_score(y_test, clf02.predict(X_test))\n",
    "print(acc02)"
   ]
  },
  {
   "cell_type": "code",
   "execution_count": 8,
   "id": "497ed481",
   "metadata": {},
   "outputs": [
    {
     "data": {
      "text/plain": [
       "['model/RF.joblib']"
      ]
     },
     "execution_count": 8,
     "metadata": {},
     "output_type": "execute_result"
    }
   ],
   "source": [
    "joblib.dump(clf02, 'model/RF.joblib')"
   ]
  },
  {
   "cell_type": "code",
   "execution_count": 9,
   "id": "99cb9517",
   "metadata": {},
   "outputs": [
    {
     "name": "stdout",
     "output_type": "stream",
     "text": [
      "1.0\n"
     ]
    }
   ],
   "source": [
    "from sklearn.neighbors import KNeighborsClassifier\n",
    "clf03 = KNeighborsClassifier(n_neighbors=5)\n",
    "clf03.fit(X_train, y_train)\n",
    "acc03 = accuracy_score(y_test, clf03.predict(X_test))\n",
    "print(acc03)"
   ]
  },
  {
   "cell_type": "code",
   "execution_count": 10,
   "id": "2869d2e2",
   "metadata": {},
   "outputs": [
    {
     "data": {
      "text/plain": [
       "['model/knn.joblib']"
      ]
     },
     "execution_count": 10,
     "metadata": {},
     "output_type": "execute_result"
    }
   ],
   "source": [
    "joblib.dump(clf03, 'model/knn.joblib')"
   ]
  },
  {
   "cell_type": "code",
   "execution_count": 11,
   "id": "4030eaee",
   "metadata": {},
   "outputs": [
    {
     "name": "stdout",
     "output_type": "stream",
     "text": [
      "0.9666666666666667\n"
     ]
    }
   ],
   "source": [
    "from sklearn.linear_model import LogisticRegression\n",
    "clf04 = LogisticRegression()\n",
    "clf04.fit(X_train, y_train)\n",
    "acc04 = accuracy_score(y_test, clf04.predict(X_test))\n",
    "print(acc04)"
   ]
  },
  {
   "cell_type": "code",
   "execution_count": 12,
   "id": "38bda7dc",
   "metadata": {},
   "outputs": [
    {
     "data": {
      "text/plain": [
       "['model/LR.joblib']"
      ]
     },
     "execution_count": 12,
     "metadata": {},
     "output_type": "execute_result"
    }
   ],
   "source": [
    "joblib.dump(clf04, 'model/LR.joblib')"
   ]
  }
 ],
 "metadata": {
  "kernelspec": {
   "display_name": "base",
   "language": "python",
   "name": "python3"
  },
  "language_info": {
   "codemirror_mode": {
    "name": "ipython",
    "version": 3
   },
   "file_extension": ".py",
   "mimetype": "text/x-python",
   "name": "python",
   "nbconvert_exporter": "python",
   "pygments_lexer": "ipython3",
   "version": "3.12.7"
  }
 },
 "nbformat": 4,
 "nbformat_minor": 5
}
